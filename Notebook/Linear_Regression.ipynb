{
  "nbformat": 4,
  "nbformat_minor": 0,
  "metadata": {
    "colab": {
      "provenance": []
    },
    "kernelspec": {
      "name": "python3",
      "display_name": "Python 3"
    },
    "language_info": {
      "name": "python"
    }
  },
  "cells": [
    {
      "cell_type": "code",
      "execution_count": null,
      "metadata": {
        "id": "D507U20oeHxY"
      },
      "outputs": [],
      "source": [
        "import pandas as pd\n",
        "import seaborn as sea\n",
        "import numpy as np\n",
        "from matplotlib import pyplot as plt\n",
        "from sklearn.linear_model import LinearRegression\n",
        "from sklearn.tree import DecisionTreeRegressor\n",
        "from sklearn.ensemble import RandomForestRegressor\n",
        "from sklearn.preprocessing import LabelEncoder, StandardScaler\n",
        "from sklearn.model_selection import train_test_split, GridSearchCV\n",
        "from sklearn.metrics import mean_squared_error, r2_score, mean_absolute_error\n",
        "import pickle"
      ]
    },
    {
      "cell_type": "code",
      "source": [
        "# Dataframe\n",
        "df=pd.read_csv(\"/content/DiamondsPrice.csv\")"
      ],
      "metadata": {
        "id": "5T0ShKxVeaD2"
      },
      "execution_count": null,
      "outputs": []
    },
    {
      "cell_type": "code",
      "source": [
        "#Dropping the outliers.\n",
        "df = df[(df[\"depth\"]<75)&(df[\"depth\"]>50)]\n",
        "df = df[(df[\"table\"]<80)&(df[\"table\"]>45)]\n",
        "df = df[(df[\"x\"]>3)]\n",
        "df = df[(df[\"y\"]<20)]\n",
        "df = df[(df[\"z\"]<10)]\n",
        "df.shape"
      ],
      "metadata": {
        "id": "NT_hq7IxFKvK",
        "colab": {
          "base_uri": "https://localhost:8080/"
        },
        "outputId": "c47e578a-2a4c-4416-a943-ac6bf6db4e64"
      },
      "execution_count": null,
      "outputs": [
        {
          "output_type": "execute_result",
          "data": {
            "text/plain": [
              "(53920, 10)"
            ]
          },
          "metadata": {},
          "execution_count": 6
        }
      ]
    },
    {
      "cell_type": "code",
      "source": [
        "# Create a label encoder object using scikit-learn.\n",
        "#A tool that helps us convert categorical data into numerical format\n",
        "le = LabelEncoder()\n",
        "df['cut']=le.fit_transform(df['cut'])\n",
        "df['color']=le.fit_transform(df['color'])\n",
        "df['clarity']=le.fit_transform(df['clarity'])"
      ],
      "metadata": {
        "id": "DQhU1_x4h4IK"
      },
      "execution_count": null,
      "outputs": []
    },
    {
      "cell_type": "code",
      "source": [
        "# Assigning features and target to variables\n",
        "x = df.drop(columns=['price'])\n",
        "y = df['price']"
      ],
      "metadata": {
        "id": "2oO744Zf78go"
      },
      "execution_count": null,
      "outputs": []
    },
    {
      "cell_type": "code",
      "source": [
        "#_____Split 1 train and test_____\n",
        "x_train, x_test, y_train, y_test = train_test_split(x, y, test_size=0.25, random_state=42)\n",
        "\n",
        "# Standardized features\n",
        "scaler=StandardScaler()\n",
        "x_train=scaler.fit_transform(x_train)\n",
        "x_test=scaler.fit_transform(x_test)"
      ],
      "metadata": {
        "id": "BT6Br0S0ehPL"
      },
      "execution_count": null,
      "outputs": []
    },
    {
      "cell_type": "code",
      "source": [
        "# Create a LinearRegression model\n",
        "lr = LinearRegression()\n",
        "\n",
        "# Fit the model with training data\n",
        "lr.fit(x_train, y_train)\n",
        "\n",
        "# Make predictions on the test set\n",
        "y_pred = lr.predict(x_test)\n",
        "\n",
        "# Calculate metrics\n",
        "mse = mean_squared_error(y_test, y_pred)\n",
        "rmse = np.sqrt(mse)\n",
        "r2 = r2_score(y_test, y_pred)\n",
        "mae = mean_absolute_error(y_test, y_pred)\n",
        "\n",
        "# Print results\n",
        "print(\"Mean Squared Error (MSE): \", mse)\n",
        "print(\"Root Mean Squared Error (RMSE): \", rmse)\n",
        "print(\"R-squared (R2): \", r2)\n",
        "print(\"Mean Absolute Error (MAE): \", mae)"
      ],
      "metadata": {
        "id": "B7OoeBgJektw",
        "colab": {
          "base_uri": "https://localhost:8080/"
        },
        "outputId": "b847cbd3-ce8f-4137-9812-c83c30352736"
      },
      "execution_count": null,
      "outputs": [
        {
          "output_type": "stream",
          "name": "stdout",
          "text": [
            "Mean Squared Error (MSE):  1759295.4757905495\n",
            "Root Mean Squared Error (RMSE):  1326.3843620122145\n",
            "R-squared (R2):  0.8880941908598553\n",
            "Mean Absolute Error (MAE):  849.9727299410443\n"
          ]
        }
      ]
    },
    {
      "cell_type": "code",
      "source": [
        "#_____Split 2 train and test_____\n",
        "x_train, x_test, y_train, y_test = train_test_split(x, y, test_size=0.3, random_state=42)\n",
        "\n",
        "# Standardized features\n",
        "scaler=StandardScaler()\n",
        "x_train=scaler.fit_transform(x_train)\n",
        "x_test=scaler.fit_transform(x_test)"
      ],
      "metadata": {
        "id": "5Xfje1DcfCqe"
      },
      "execution_count": null,
      "outputs": []
    },
    {
      "cell_type": "code",
      "source": [
        "# Create a LinearRegression model\n",
        "lr = LinearRegression()\n",
        "\n",
        "# Train the model\n",
        "lr.fit(x_train, y_train)\n",
        "\n",
        "# Predict on the test set\n",
        "y_pred = lr.predict(x_test)\n",
        "\n",
        "# Calculate metrics\n",
        "mse = mean_squared_error(y_test, y_pred)\n",
        "rmse = np.sqrt(mse)\n",
        "r2 = r2_score(y_test, y_pred)\n",
        "mae = mean_absolute_error(y_test, y_pred)\n",
        "\n",
        "# Print results\n",
        "print(\"Mean Squared Error (MSE): \", mse)\n",
        "print(\"Root Mean Squared Error (RMSE): \", rmse)\n",
        "print(\"R-squared (R2): \", r2)\n",
        "print(\"Mean Absolute Error (MAE): \", mae)"
      ],
      "metadata": {
        "id": "yhAbcv0rmmEC",
        "colab": {
          "base_uri": "https://localhost:8080/"
        },
        "outputId": "289dde7b-0960-496b-b305-66bab73b4543"
      },
      "execution_count": null,
      "outputs": [
        {
          "output_type": "stream",
          "name": "stdout",
          "text": [
            "Mean Squared Error (MSE):  1757322.069024805\n",
            "Root Mean Squared Error (RMSE):  1325.6402487193895\n",
            "R-squared (R2):  0.8875856834313703\n",
            "Mean Absolute Error (MAE):  854.3123027914417\n"
          ]
        }
      ]
    },
    {
      "cell_type": "code",
      "source": [
        "#_____Split 3 train and test_____\n",
        "x_train, x_test, y_train, y_test = train_test_split(x, y, test_size=0.2, random_state=42)\n",
        "\n",
        "# Standardized features\n",
        "scaler=StandardScaler()\n",
        "x_train=scaler.fit_transform(x_train)\n",
        "x_test=scaler.fit_transform(x_test)"
      ],
      "metadata": {
        "id": "dn7PfiOekrKW"
      },
      "execution_count": null,
      "outputs": []
    },
    {
      "cell_type": "code",
      "source": [
        "# Create a LinearRegression model\n",
        "lr = LinearRegression()\n",
        "\n",
        "# Train the model\n",
        "lr.fit(x_train, y_train)\n",
        "\n",
        "# Predict on the test set\n",
        "y_pred = lr.predict(x_test)\n",
        "\n",
        "# Calculate metrics\n",
        "mse = mean_squared_error(y_test, y_pred)\n",
        "rmse = np.sqrt(mse)\n",
        "r2 = r2_score(y_test, y_pred)\n",
        "mae = mean_absolute_error(y_test, y_pred)\n",
        "\n",
        "# Print results\n",
        "print(\"Mean Squared Error (MSE): \", mse)\n",
        "print(\"Root Mean Squared Error (RMSE): \", rmse)\n",
        "print(\"R-squared (R2): \", r2)\n",
        "print(\"Mean Absolute Error (MAE): \", mae)"
      ],
      "metadata": {
        "id": "2PlpVdOLkyvx",
        "colab": {
          "base_uri": "https://localhost:8080/"
        },
        "outputId": "c0578afe-28bb-482d-f53f-2ba9bbf47dc5"
      },
      "execution_count": null,
      "outputs": [
        {
          "output_type": "stream",
          "name": "stdout",
          "text": [
            "Mean Squared Error (MSE):  1818028.5105662188\n",
            "Root Mean Squared Error (RMSE):  1348.3428757427462\n",
            "R-squared (R2):  0.8865252590288444\n",
            "Mean Absolute Error (MAE):  856.0018763047972\n"
          ]
        }
      ]
    },
    {
      "cell_type": "code",
      "source": [
        "# Train the LinearRegressor model on the entire dataset\n",
        "lr = LinearRegression()\n",
        "lr.fit(x, y)"
      ],
      "metadata": {
        "id": "wkBa0EfiPUYW"
      },
      "execution_count": null,
      "outputs": []
    },
    {
      "cell_type": "code",
      "source": [
        "# Save the trained model as a .pkl file using pickle\n",
        "with open('Linear Regression.pkl', 'wb') as file:\n",
        "    pickle.dump(lr, file)"
      ],
      "metadata": {
        "id": "GDPma9Zl8og-"
      },
      "execution_count": null,
      "outputs": []
    }
  ]
}