{
  "nbformat": 4,
  "nbformat_minor": 0,
  "metadata": {
    "colab": {
      "provenance": []
    },
    "kernelspec": {
      "name": "python3",
      "display_name": "Python 3"
    },
    "language_info": {
      "name": "python"
    }
  },
  "cells": [
    {
      "cell_type": "code",
      "execution_count": null,
      "metadata": {
        "id": "D507U20oeHxY"
      },
      "outputs": [],
      "source": [
        "import pandas as pd\n",
        "import seaborn as sea\n",
        "import numpy as np\n",
        "from matplotlib import pyplot as plt\n",
        "from sklearn.linear_model import LinearRegression\n",
        "from sklearn.tree import DecisionTreeRegressor\n",
        "from sklearn.ensemble import RandomForestRegressor\n",
        "from sklearn.preprocessing import LabelEncoder, StandardScaler\n",
        "from sklearn.model_selection import train_test_split, GridSearchCV\n",
        "from sklearn.metrics import mean_squared_error, r2_score, mean_absolute_error\n",
        "import pickle"
      ]
    },
    {
      "cell_type": "code",
      "source": [
        "# Dataframe\n",
        "df=pd.read_csv(\"/content/DiamondsPrice.csv\")\n",
        "df.shape"
      ],
      "metadata": {
        "id": "5T0ShKxVeaD2",
        "colab": {
          "base_uri": "https://localhost:8080/"
        },
        "outputId": "2fbafe25-672f-4811-ffb4-a987795efd59"
      },
      "execution_count": null,
      "outputs": [
        {
          "output_type": "execute_result",
          "data": {
            "text/plain": [
              "(53940, 10)"
            ]
          },
          "metadata": {},
          "execution_count": 37
        }
      ]
    },
    {
      "cell_type": "code",
      "source": [
        "#Dropping the outliers.\n",
        "df = df[(df[\"depth\"]<75)&(df[\"depth\"]>50)]\n",
        "df = df[(df[\"table\"]<80)&(df[\"table\"]>45)]\n",
        "df = df[(df[\"x\"]>3)]\n",
        "df = df[(df[\"y\"]<20)]\n",
        "df = df[(df[\"z\"]<10)]\n",
        "df.shape"
      ],
      "metadata": {
        "id": "NT_hq7IxFKvK",
        "colab": {
          "base_uri": "https://localhost:8080/"
        },
        "outputId": "feabc188-2c6a-442b-be77-1a020c3ad04b"
      },
      "execution_count": null,
      "outputs": [
        {
          "output_type": "execute_result",
          "data": {
            "text/plain": [
              "(53920, 10)"
            ]
          },
          "metadata": {},
          "execution_count": 38
        }
      ]
    },
    {
      "cell_type": "code",
      "source": [
        "# Create a label encoder object using scikit-learn.\n",
        "#A tool that helps us convert categorical data into numerical format\n",
        "le = LabelEncoder()\n",
        "df['cut']=le.fit_transform(df['cut'])\n",
        "df['color']=le.fit_transform(df['color'])\n",
        "df['clarity']=le.fit_transform(df['clarity'])"
      ],
      "metadata": {
        "id": "DQhU1_x4h4IK"
      },
      "execution_count": null,
      "outputs": []
    },
    {
      "cell_type": "code",
      "source": [
        "# Assigning features and target to variables\n",
        "x = df.drop(columns=['price'])\n",
        "y = df['price']"
      ],
      "metadata": {
        "id": "2oO744Zf78go"
      },
      "execution_count": null,
      "outputs": []
    },
    {
      "cell_type": "code",
      "source": [
        "#_____Split 1 train and test_____\n",
        "x_train, x_test, y_train, y_test = train_test_split(x, y, test_size=0.25, random_state=42)\n",
        "\n",
        "# Standardized features\n",
        "scaler=StandardScaler()\n",
        "x_train=scaler.fit_transform(x_train)\n",
        "x_test=scaler.fit_transform(x_test)"
      ],
      "metadata": {
        "id": "BT6Br0S0ehPL"
      },
      "execution_count": null,
      "outputs": []
    },
    {
      "cell_type": "code",
      "source": [
        "# Create a RandomForestRegressor model\n",
        "rf = RandomForestRegressor(random_state=42)\n",
        "\n",
        "# Train the model\n",
        "rf.fit(x_train, y_train)\n",
        "\n",
        "# Predict on the test set\n",
        "y_pred = rf.predict(x_test)\n",
        "\n",
        "# Calculate metrics\n",
        "mse = mean_squared_error(y_test, y_pred)\n",
        "rmse = np.sqrt(mse)\n",
        "r2 = r2_score(y_test, y_pred)\n",
        "mae = mean_absolute_error(y_test, y_pred)\n",
        "\n",
        "# Print results\n",
        "print(\"Mean Squared Error (MSE): \", mse)\n",
        "print(\"Root Mean Squared Error (RMSE): \", rmse)\n",
        "print(\"R-squared (R2): \", r2)\n",
        "print(\"Mean Absolute Error (MAE): \", mae)"
      ],
      "metadata": {
        "id": "FxMc2NKs5x47",
        "colab": {
          "base_uri": "https://localhost:8080/"
        },
        "outputId": "c76f6d1e-7872-4b26-83b8-a5ffa4b86084"
      },
      "execution_count": null,
      "outputs": [
        {
          "output_type": "stream",
          "name": "stdout",
          "text": [
            "Mean Squared Error (MSE):  315716.1362910989\n",
            "Root Mean Squared Error (RMSE):  561.8862307363465\n",
            "R-squared (R2):  0.9799178306450316\n",
            "Mean Absolute Error (MAE):  272.474071758278\n"
          ]
        }
      ]
    },
    {
      "cell_type": "code",
      "source": [
        "#_____Split 2 train and test_____\n",
        "x_train, x_test, y_train, y_test = train_test_split(x, y, test_size=0.3, random_state=42)\n",
        "\n",
        "# Standardized features\n",
        "scaler=StandardScaler()\n",
        "x_train=scaler.fit_transform(x_train)\n",
        "x_test=scaler.fit_transform(x_test)"
      ],
      "metadata": {
        "id": "ulc3Awnj6isF"
      },
      "execution_count": null,
      "outputs": []
    },
    {
      "cell_type": "code",
      "source": [
        "# Create a RandomForestRegressor model\n",
        "rf = RandomForestRegressor(random_state=42)\n",
        "\n",
        "# Train the model\n",
        "rf.fit(x_train, y_train)\n",
        "\n",
        "# Predict on the test set\n",
        "y_pred = rf.predict(x_test)\n",
        "\n",
        "# Calculate metrics\n",
        "mse = mean_squared_error(y_test, y_pred)\n",
        "rmse = np.sqrt(mse)\n",
        "r2 = r2_score(y_test, y_pred)\n",
        "mae = mean_absolute_error(y_test, y_pred)\n",
        "\n",
        "# Print results\n",
        "print(\"Mean Squared Error (MSE): \", mse)\n",
        "print(\"Root Mean Squared Error (RMSE): \", rmse)\n",
        "print(\"R-squared (R2): \", r2)\n",
        "print(\"Mean Absolute Error (MAE): \", mae)"
      ],
      "metadata": {
        "id": "foqzSs3E6n0y",
        "colab": {
          "base_uri": "https://localhost:8080/"
        },
        "outputId": "f04a7aea-c572-46c5-b811-30f76f77df25"
      },
      "execution_count": null,
      "outputs": [
        {
          "output_type": "stream",
          "name": "stdout",
          "text": [
            "Mean Squared Error (MSE):  322061.1664608742\n",
            "Root Mean Squared Error (RMSE):  567.5043316670581\n",
            "R-squared (R2):  0.9793980360463544\n",
            "Mean Absolute Error (MAE):  275.5139708886769\n"
          ]
        }
      ]
    },
    {
      "cell_type": "code",
      "source": [
        "#_____Split 3 train and test_____\n",
        "x_train, x_test, y_train, y_test = train_test_split(x, y, test_size=0.2, random_state=42)\n",
        "\n",
        "# Standardized features\n",
        "scaler=StandardScaler()\n",
        "x_train=scaler.fit_transform(x_train)\n",
        "x_test=scaler.fit_transform(x_test)"
      ],
      "metadata": {
        "id": "dn7PfiOekrKW"
      },
      "execution_count": null,
      "outputs": []
    },
    {
      "cell_type": "code",
      "source": [
        "# Create a RandomForestRegressor model\n",
        "rf = RandomForestRegressor(random_state=42)\n",
        "\n",
        "# Train the model\n",
        "rf.fit(x_train, y_train)\n",
        "\n",
        "# Predict on the test set\n",
        "y_pred = rf.predict(x_test)\n",
        "\n",
        "# Calculate metrics\n",
        "mse = mean_squared_error(y_test, y_pred)\n",
        "rmse = np.sqrt(mse)\n",
        "r2 = r2_score(y_test, y_pred)\n",
        "mae = mean_absolute_error(y_test, y_pred)\n",
        "\n",
        "# Print results\n",
        "print(\"Mean Squared Error (MSE): \", mse)\n",
        "print(\"Root Mean Squared Error (RMSE): \", rmse)\n",
        "print(\"R-squared (R2): \", r2)\n",
        "print(\"Mean Absolute Error (MAE): \", mae)"
      ],
      "metadata": {
        "id": "YEgLSOf56qjV",
        "colab": {
          "base_uri": "https://localhost:8080/"
        },
        "outputId": "c9fa7e5f-ab3b-4111-dec2-208dbabf0101"
      },
      "execution_count": null,
      "outputs": [
        {
          "output_type": "stream",
          "name": "stdout",
          "text": [
            "Mean Squared Error (MSE):  332377.2887842228\n",
            "Root Mean Squared Error (RMSE):  576.5217157958778\n",
            "R-squared (R2):  0.9792542160201118\n",
            "Mean Absolute Error (MAE):  279.4951659491133\n"
          ]
        }
      ]
    },
    {
      "cell_type": "code",
      "source": [
        "# Train the RandomForestRegressor model on the entire dataset\n",
        "rf = RandomForestRegressor(random_state=42)\n",
        "rf.fit(x, y)"
      ],
      "metadata": {
        "id": "DS9JvZcFKyb0"
      },
      "execution_count": null,
      "outputs": []
    },
    {
      "cell_type": "code",
      "source": [
        "# Save the trained model as a .pkl file using pickle\n",
        "with open('Random Forest Regressor.pkl', 'wb') as file:\n",
        "    pickle.dump(rf, file)"
      ],
      "metadata": {
        "id": "uygFsX6G8zGS"
      },
      "execution_count": null,
      "outputs": []
    }
  ]
}