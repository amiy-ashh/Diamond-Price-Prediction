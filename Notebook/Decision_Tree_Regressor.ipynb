{
  "nbformat": 4,
  "nbformat_minor": 0,
  "metadata": {
    "colab": {
      "provenance": []
    },
    "kernelspec": {
      "name": "python3",
      "display_name": "Python 3"
    },
    "language_info": {
      "name": "python"
    }
  },
  "cells": [
    {
      "cell_type": "code",
      "execution_count": null,
      "metadata": {
        "id": "D507U20oeHxY"
      },
      "outputs": [],
      "source": [
        "import pandas as pd\n",
        "import seaborn as sea\n",
        "import numpy as np\n",
        "from matplotlib import pyplot as plt\n",
        "from sklearn.linear_model import LinearRegression\n",
        "from sklearn.tree import DecisionTreeRegressor\n",
        "from sklearn.ensemble import RandomForestRegressor\n",
        "from sklearn.preprocessing import LabelEncoder, StandardScaler\n",
        "from sklearn.model_selection import train_test_split, GridSearchCV\n",
        "from sklearn.metrics import mean_squared_error, r2_score, mean_absolute_error\n",
        "import pickle"
      ]
    },
    {
      "cell_type": "code",
      "source": [
        "# Dataframe\n",
        "df=pd.read_csv(\"/content/DiamondsPrice.csv\")\n",
        "df.shape"
      ],
      "metadata": {
        "id": "hrj2CmwM6-2P",
        "colab": {
          "base_uri": "https://localhost:8080/"
        },
        "outputId": "a786a3e5-9d60-4da3-b252-e509eac29b0b"
      },
      "execution_count": null,
      "outputs": [
        {
          "output_type": "execute_result",
          "data": {
            "text/plain": [
              "(53940, 10)"
            ]
          },
          "metadata": {},
          "execution_count": 6
        }
      ]
    },
    {
      "cell_type": "code",
      "source": [
        "#Dropping the outliers.\n",
        "df = df[(df[\"depth\"]<75)&(df[\"depth\"]>50)]\n",
        "df = df[(df[\"table\"]<80)&(df[\"table\"]>45)]\n",
        "df = df[(df[\"x\"]>3)]\n",
        "df = df[(df[\"y\"]<20)]\n",
        "df = df[(df[\"z\"]<10)]\n",
        "df.shape"
      ],
      "metadata": {
        "id": "m1QNNN3z_PSA",
        "colab": {
          "base_uri": "https://localhost:8080/"
        },
        "outputId": "127f3f7c-2756-45d7-8996-77781a08b40e"
      },
      "execution_count": null,
      "outputs": [
        {
          "output_type": "execute_result",
          "data": {
            "text/plain": [
              "(53920, 10)"
            ]
          },
          "metadata": {},
          "execution_count": 9
        }
      ]
    },
    {
      "cell_type": "code",
      "source": [
        "# Create a label encoder object using scikit-learn.\n",
        "#A tool that helps us convert categorical data into numerical format\n",
        "le = LabelEncoder()\n",
        "df['cut']=le.fit_transform(df['cut'])\n",
        "df['color']=le.fit_transform(df['color'])\n",
        "df['clarity']=le.fit_transform(df['clarity'])"
      ],
      "metadata": {
        "id": "mfZMUX-U_Tdi"
      },
      "execution_count": null,
      "outputs": []
    },
    {
      "cell_type": "code",
      "source": [
        "x = df.drop(columns=['price'])\n",
        "y = df['price']"
      ],
      "metadata": {
        "id": "0TtxT_qt_Wfo"
      },
      "execution_count": null,
      "outputs": []
    },
    {
      "cell_type": "code",
      "source": [
        "#_____Split 1 train and test_____\n",
        "x_train, x_test, y_train, y_test = train_test_split(x, y, test_size=0.25, random_state=42)"
      ],
      "metadata": {
        "id": "zC20OZYf_Zny"
      },
      "execution_count": null,
      "outputs": []
    },
    {
      "cell_type": "code",
      "source": [
        "# Standardized features\n",
        "scaler=StandardScaler()\n",
        "x_train=scaler.fit_transform(x_train)\n",
        "x_test=scaler.fit_transform(x_test)"
      ],
      "metadata": {
        "id": "DhrYqrv6_c5K"
      },
      "execution_count": null,
      "outputs": []
    },
    {
      "cell_type": "code",
      "source": [
        "# Create a DecisionTreeRegressor Model\n",
        "dt = DecisionTreeRegressor(random_state=42)\n",
        "\n",
        "# Define the parameter grid\n",
        "param_grid = {\n",
        "    'max_depth': [None, 5, 10, 15],  # Maximum depth of the tree\n",
        "    'min_samples_split': [2, 5, 10],  # Minimum number of samples required to split an internal node\n",
        "    'min_samples_leaf': [1, 2, 4]  # Minimum number of samples required to be at a leaf node\n",
        "}\n",
        "\n",
        "# Create GridSearchCV object\n",
        "grid_search = GridSearchCV(dt, param_grid)\n",
        "\n",
        "# Perform grid search cross-validation\n",
        "grid_search.fit(x_train, y_train)\n",
        "\n",
        "# Get the best model\n",
        "best_model = grid_search.best_estimator_\n",
        "\n",
        "# Predict on the test set using the best model\n",
        "y_pred = best_model.predict(x_test)\n",
        "\n",
        "# Calculate metrics\n",
        "mse = mean_squared_error(y_test, y_pred)\n",
        "rmse = np.sqrt(mse)\n",
        "r2 = r2_score(y_test, y_pred)\n",
        "mae = mean_absolute_error(y_test, y_pred)\n",
        "\n",
        "# Print results\n",
        "print(\"Mean Squared Error (MSE): \", mse)\n",
        "print(\"Root Mean Squared Error (RMSE): \", rmse)\n",
        "print(\"R-squared (R2): \", r2)\n",
        "print(\"Mean Absolute Error (MAE): \", mae)"
      ],
      "metadata": {
        "id": "p8Zas2rF_gEW",
        "colab": {
          "base_uri": "https://localhost:8080/"
        },
        "outputId": "82dbf548-e2ec-40a6-f734-e2f4035be9a6"
      },
      "execution_count": null,
      "outputs": [
        {
          "output_type": "stream",
          "name": "stdout",
          "text": [
            "Mean Squared Error (MSE):  432700.12040352373\n",
            "Root Mean Squared Error (RMSE):  657.7994530276867\n",
            "R-squared (R2):  0.9724766773091167\n",
            "Mean Absolute Error (MAE):  344.083729053589\n"
          ]
        }
      ]
    },
    {
      "cell_type": "code",
      "source": [
        "#_____Split 2 train and test_____\n",
        "x_train, x_test, y_train, y_test = train_test_split(x, y, test_size=0.3, random_state=42)"
      ],
      "metadata": {
        "id": "12x9l6eq_lKS"
      },
      "execution_count": null,
      "outputs": []
    },
    {
      "cell_type": "code",
      "source": [
        "# Standardized features\n",
        "scaler=StandardScaler()\n",
        "x_train=scaler.fit_transform(x_train)\n",
        "x_test=scaler.fit_transform(x_test)"
      ],
      "metadata": {
        "id": "ED5bDMo1_thP"
      },
      "execution_count": null,
      "outputs": []
    },
    {
      "cell_type": "code",
      "source": [
        "# Create a DecisionTreeRegressor Model\n",
        "dt = DecisionTreeRegressor(random_state=42)\n",
        "\n",
        "# Define the parameter grid\n",
        "param_grid = {\n",
        "    'max_depth': [None, 5, 10, 15],  # Maximum depth of the tree\n",
        "    'min_samples_split': [2, 5, 10],  # Minimum number of samples required to split an internal node\n",
        "    'min_samples_leaf': [1, 2, 4]  # Minimum number of samples required to be at a leaf node\n",
        "}\n",
        "\n",
        "# Create GridSearchCV object\n",
        "grid_search = GridSearchCV(dt, param_grid)\n",
        "\n",
        "# Perform grid search cross-validation\n",
        "grid_search.fit(x_train, y_train)\n",
        "\n",
        "# Get the best model\n",
        "best_model = grid_search.best_estimator_\n",
        "\n",
        "# Predict on the test set using the best model\n",
        "y_pred = best_model.predict(x_test)\n",
        "\n",
        "# Calculate metrics\n",
        "mse = mean_squared_error(y_test, y_pred)\n",
        "rmse = np.sqrt(mse)\n",
        "r2 = r2_score(y_test, y_pred)\n",
        "mae = mean_absolute_error(y_test, y_pred)\n",
        "\n",
        "# Print results\n",
        "print(\"Mean Squared Error (MSE): \", mse)\n",
        "print(\"Root Mean Squared Error (RMSE): \", rmse)\n",
        "print(\"R-squared (R2): \", r2)\n",
        "print(\"Mean Absolute Error (MAE): \", mae)"
      ],
      "metadata": {
        "id": "lrHLTxzF_uAv",
        "colab": {
          "base_uri": "https://localhost:8080/"
        },
        "outputId": "3f1ea88f-30bc-436c-9132-af873d981405"
      },
      "execution_count": null,
      "outputs": [
        {
          "output_type": "stream",
          "name": "stdout",
          "text": [
            "Mean Squared Error (MSE):  430773.81542468694\n",
            "Root Mean Squared Error (RMSE):  656.3336159489982\n",
            "R-squared (R2):  0.9724437853992809\n",
            "Mean Absolute Error (MAE):  345.8219058042708\n"
          ]
        }
      ]
    },
    {
      "cell_type": "code",
      "source": [
        "#_____Split 3 train and test_____\n",
        "x_train, x_test, y_train, y_test = train_test_split(x, y, test_size=0.2, random_state=42)"
      ],
      "metadata": {
        "id": "2ghv3vkE_uuD"
      },
      "execution_count": null,
      "outputs": []
    },
    {
      "cell_type": "code",
      "source": [
        "# Standardized features\n",
        "scaler=StandardScaler()\n",
        "x_train=scaler.fit_transform(x_train)\n",
        "x_test=scaler.fit_transform(x_test)"
      ],
      "metadata": {
        "id": "18e_mnzm_vBV"
      },
      "execution_count": null,
      "outputs": []
    },
    {
      "cell_type": "code",
      "source": [
        "# Create a DecisionTreeRegressor Model\n",
        "dt = DecisionTreeRegressor(random_state=42)\n",
        "\n",
        "# Define the parameter grid\n",
        "param_grid = {\n",
        "    'max_depth': [None, 5, 10, 15],  # Maximum depth of the tree\n",
        "    'min_samples_split': [2, 5, 10],  # Minimum number of samples required to split an internal node\n",
        "    'min_samples_leaf': [1, 2, 4]  # Minimum number of samples required to be at a leaf node\n",
        "}\n",
        "\n",
        "# Create GridSearchCV object\n",
        "grid_search = GridSearchCV(dt, param_grid)\n",
        "\n",
        "# Perform grid search cross-validation\n",
        "grid_search.fit(x_train, y_train)\n",
        "\n",
        "# Get the best model\n",
        "best_model = grid_search.best_estimator_\n",
        "\n",
        "# Predict on the test set using the best model\n",
        "y_pred = best_model.predict(x_test)\n",
        "\n",
        "# Calculate metrics\n",
        "mse = mean_squared_error(y_test, y_pred)\n",
        "rmse = np.sqrt(mse)\n",
        "r2 = r2_score(y_test, y_pred)\n",
        "mae = mean_absolute_error(y_test, y_pred)\n",
        "\n",
        "# Print results\n",
        "print(\"Mean Squared Error (MSE): \", mse)\n",
        "print(\"Root Mean Squared Error (RMSE): \", rmse)\n",
        "print(\"R-squared (R2): \", r2)\n",
        "print(\"Mean Absolute Error (MAE): \", mae)"
      ],
      "metadata": {
        "id": "bSjV8KRS_vdb",
        "colab": {
          "base_uri": "https://localhost:8080/"
        },
        "outputId": "cb2a1a2a-4c21-47b0-ebd8-9a7ef25212d6"
      },
      "execution_count": null,
      "outputs": [
        {
          "output_type": "stream",
          "name": "stdout",
          "text": [
            "Mean Squared Error (MSE):  451573.89202596666\n",
            "Root Mean Squared Error (RMSE):  671.9924791439013\n",
            "R-squared (R2):  0.9718143966779575\n",
            "Mean Absolute Error (MAE):  332.6424861478683\n"
          ]
        }
      ]
    },
    {
      "cell_type": "code",
      "source": [
        "# Train the DecisionTreeRegressor model on the entire dataset\n",
        "dt = DecisionTreeRegressor(random_state=42)\n",
        "dt.fit(x, y)"
      ],
      "metadata": {
        "id": "mmQjmEf6AEiE"
      },
      "execution_count": null,
      "outputs": []
    },
    {
      "cell_type": "code",
      "source": [
        "# Save the trained model as a .pkl file using pickle\n",
        "with open('Decision Tree Regressor.pkl', 'wb') as file:\n",
        "    pickle.dump(dt, file)"
      ],
      "metadata": {
        "id": "DxmmLYkjAHkL"
      },
      "execution_count": null,
      "outputs": []
    }
  ]
}